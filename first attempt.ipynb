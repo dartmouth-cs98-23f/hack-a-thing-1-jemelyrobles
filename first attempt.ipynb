{
 "cells": [
  {
   "cell_type": "code",
   "execution_count": 1,
   "id": "b64c0b89",
   "metadata": {},
   "outputs": [],
   "source": [
    "#JemelyR\n",
    "#Hack-a-thing, 23F\n",
    "\n",
    "# made from a tutorial from: https://medium.com/@stepanfilonov/tracking-your-eyes-with-python-3952e66194a6\n",
    "#code is mostly from the tutorial as i was following it to learn how to develop eye tracking\n",
    "\n",
    "\n",
    "import cv2\n",
    "import numpy\n",
    "face_cascade = cv2.CascadeClassifier('haarcascade_frontalface_default.xml') #provided by tutorial\n",
    "eye_cascade = cv2.CascadeClassifier('haarcascade_eye.xml') #provided by tutorial\n"
   ]
  },
  {
   "cell_type": "code",
   "execution_count": 2,
   "id": "6ca8b5f4",
   "metadata": {},
   "outputs": [],
   "source": [
    "img = cv2.imread(\"portrait.jpg\")\n"
   ]
  },
  {
   "cell_type": "code",
   "execution_count": 3,
   "id": "4134a974",
   "metadata": {},
   "outputs": [],
   "source": [
    "#make the picture gray so that what is flat color isn't a face\n",
    "gray_picture = cv2.cvtColor(img, cv2.COLOR_BGR2GRAY)\n",
    "faces = face_cascade.detectMultiScale(gray_picture, 1.3, 5)"
   ]
  },
  {
   "cell_type": "code",
   "execution_count": 5,
   "id": "5ba297b4",
   "metadata": {},
   "outputs": [],
   "source": [
    "#if we can detect a face it can then be widdled down to eyes\n",
    "#the rectangles are based on the gray image but drawn over the colorful one\n",
    "for (x,y,w,h) in faces:\n",
    "    cv2.rectangle(img,(x,y),(x+w,y+h),(255,255,0),2) #creates rectangle around face\n",
    "    gray_face = gray_picture[y:y+h, x:x+w] #gray version\n",
    "    face = img[y:y+h, x:x+w] #normal version\n",
    "    eyes = eye_cascade.detectMultiScale(gray_face)\n",
    "    for (ex,ey,ew,eh) in eyes: \n",
    "        cv2.rectangle(face,(ex,ey),(ex+ew,ey+eh),(0,225,255),2)#creates rectangle around \"\""
   ]
  },
  {
   "cell_type": "code",
   "execution_count": 6,
   "id": "b04a4374",
   "metadata": {},
   "outputs": [],
   "source": [
    "#will still detect other areas of the face that aren't eyes \n",
    "#just because they're small dark areas"
   ]
  },
  {
   "cell_type": "code",
   "execution_count": null,
   "id": "db4244e7",
   "metadata": {},
   "outputs": [],
   "source": [
    "cv2.imshow('my image',img)\n",
    "cv2.waitKey(0)\n",
    "cv2.destroyAllWindows()"
   ]
  },
  {
   "cell_type": "markdown",
   "id": "ac28a8db",
   "metadata": {},
   "source": []
  },
  {
   "cell_type": "code",
   "execution_count": null,
   "id": "6a5296f4",
   "metadata": {},
   "outputs": [],
   "source": []
  }
 ],
 "metadata": {
  "kernelspec": {
   "display_name": "Python 3 (ipykernel)",
   "language": "python",
   "name": "python3"
  },
  "language_info": {
   "codemirror_mode": {
    "name": "ipython",
    "version": 3
   },
   "file_extension": ".py",
   "mimetype": "text/x-python",
   "name": "python",
   "nbconvert_exporter": "python",
   "pygments_lexer": "ipython3",
   "version": "3.9.13"
  }
 },
 "nbformat": 4,
 "nbformat_minor": 5
}
