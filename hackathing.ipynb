{
 "cells": [
  {
   "cell_type": "code",
   "execution_count": null,
   "id": "5dabc6f8",
   "metadata": {},
   "outputs": [],
   "source": [
    "#JemelyR\n",
    "#Hack-a-thing, 23F\n",
    "\n",
    "# made from a tutorial from: https://medium.com/@stepanfilonov/tracking-your-eyes-with-python-3952e66194a6\n",
    "#code is mostly from the tutorial as i was following it to learn how to develop eye tracking\n",
    "\n"
   ]
  },
  {
   "cell_type": "code",
   "execution_count": null,
   "id": "2b2e1555",
   "metadata": {},
   "outputs": [],
   "source": [
    "import cv2\n",
    "import numpy as np\n",
    "face_cascade = cv2.CascadeClassifier('haarcascade_frontalface_default.xml')\n",
    "eye_cascade = cv2.CascadeClassifier('haarcascade_eye.xml')"
   ]
  },
  {
   "cell_type": "code",
   "execution_count": null,
   "id": "08978495",
   "metadata": {},
   "outputs": [],
   "source": []
  },
  {
   "cell_type": "code",
   "execution_count": null,
   "id": "4e3c7806",
   "metadata": {},
   "outputs": [],
   "source": [
    "detector_params = cv2.SimpleBlobDetector_Params()\n",
    "detector_params.filterByArea = True\n",
    "detector_params.maxArea = 1500\n",
    "detector = cv2.SimpleBlobDetector_create(detector_params)\n"
   ]
  },
  {
   "cell_type": "code",
   "execution_count": null,
   "id": "7a28d2f5",
   "metadata": {},
   "outputs": [],
   "source": []
  },
  {
   "cell_type": "code",
   "execution_count": null,
   "id": "dba53e19",
   "metadata": {},
   "outputs": [],
   "source": [
    "def detect_faces(img, cascade):\n",
    "    gray_frame = cv2.cvtColor(img, cv2.COLOR_BGR2GRAY)\n",
    "    coords = cascade.detectMultiScale(gray_frame, 1.3, 5)\n",
    "    if len(coords) > 1:\n",
    "        biggest = (0, 0, 0, 0)\n",
    "        for i in coords:\n",
    "            if i[3] > biggest[3]:\n",
    "                biggest = i\n",
    "        biggest = np.array([i], np.int32)\n",
    "    elif len(coords) == 1:\n",
    "        biggest = coords\n",
    "    else:\n",
    "        return None\n",
    "    for (x, y, w, h) in biggest:\n",
    "        frame = img[y:y + h, x:x + w]\n",
    "    return frame"
   ]
  },
  {
   "cell_type": "code",
   "execution_count": null,
   "id": "ec7c5b33",
   "metadata": {},
   "outputs": [],
   "source": [
    "def detect_eyes(img, cascade):\n",
    "    gray_frame = cv2.cvtColor(img, cv2.COLOR_BGR2GRAY)\n",
    "    eyes = cascade.detectMultiScale(gray_frame, 1.3, 5)  # detect eyes\n",
    "    width = np.size(img, 1)  # get face frame width\n",
    "    height = np.size(img, 0)  # get face frame height\n",
    "    left_eye = None\n",
    "    right_eye = None\n",
    "    for (x, y, w, h) in eyes:\n",
    "        if y > height / 2:\n",
    "            pass\n",
    "        eyecenter = x + w / 2  # get the eye center\n",
    "        if eyecenter < width * 0.5:\n",
    "            left_eye = img[y:y + h, x:x + w]\n",
    "        else:\n",
    "            right_eye = img[y:y + h, x:x + w]\n",
    "    return left_eye, right_eye\n"
   ]
  },
  {
   "cell_type": "code",
   "execution_count": null,
   "id": "7d1efcac",
   "metadata": {},
   "outputs": [],
   "source": [
    "\n",
    "def cut_eyebrows(img):\n",
    "    height, width = img.shape[:2]\n",
    "    eyebrow_h = int(height / 4)\n",
    "    img = img[eyebrow_h:height, 0:width]  # cut eyebrows out (15 px)\n",
    "\n",
    "    return img"
   ]
  },
  {
   "cell_type": "code",
   "execution_count": null,
   "id": "ad139518",
   "metadata": {},
   "outputs": [],
   "source": [
    "def blob_process(img, threshold, detector):\n",
    "    gray_frame = cv2.cvtColor(img, cv2.COLOR_BGR2GRAY)\n",
    "    _, img = cv2.threshold(gray_frame, threshold, 255, cv2.THRESH_BINARY)\n",
    "    img = cv2.erode(img, None, iterations=2)\n",
    "    img = cv2.dilate(img, None, iterations=4)\n",
    "    img = cv2.medianBlur(img, 5)\n",
    "    keypoints = detector.detect(img)\n",
    "    print(keypoints)\n",
    "    return keypoints"
   ]
  },
  {
   "cell_type": "code",
   "execution_count": null,
   "id": "cf6d4043",
   "metadata": {},
   "outputs": [],
   "source": [
    "def nothing(x):\n",
    "    pass\n"
   ]
  },
  {
   "cell_type": "code",
   "execution_count": null,
   "id": "51eb3a40",
   "metadata": {},
   "outputs": [],
   "source": [
    "def main():\n",
    "    cap = cv2.VideoCapture(0)\n",
    "    cv2.namedWindow('image')\n",
    "    cv2.createTrackbar('threshold', 'image', 0, 255, nothing)\n",
    "    while True:\n",
    "        _, frame = cap.read()\n",
    "        face_frame = detect_faces(frame, face_cascade)\n",
    "        if face_frame is not None:\n",
    "            eyes = detect_eyes(face_frame, eye_cascade)\n",
    "            for eye in eyes:\n",
    "                if eye is not None:\n",
    "                    threshold = r = cv2.getTrackbarPos('threshold', 'image')\n",
    "                    eye = cut_eyebrows(eye)\n",
    "                    keypoints = blob_process(eye, threshold, detector)\n",
    "                    eye = cv2.drawKeypoints(eye, keypoints, eye, (0, 0, 255), cv2.DRAW_MATCHES_FLAGS_DRAW_RICH_KEYPOINTS)\n",
    "        cv2.imshow('image', frame)\n",
    "        if cv2.waitKey(1) & 0xFF == ord('q'):\n",
    "            break\n",
    "    cap.release()\n",
    "    cv2.destroyAllWindows()"
   ]
  },
  {
   "cell_type": "code",
   "execution_count": null,
   "id": "1823cddc",
   "metadata": {},
   "outputs": [],
   "source": [
    " if __name__ == \"__main__\":\n",
    "    main()"
   ]
  },
  {
   "cell_type": "code",
   "execution_count": null,
   "id": "d7e292a2",
   "metadata": {},
   "outputs": [],
   "source": []
  },
  {
   "cell_type": "code",
   "execution_count": null,
   "id": "2872cb10",
   "metadata": {},
   "outputs": [],
   "source": []
  },
  {
   "cell_type": "code",
   "execution_count": null,
   "id": "17f42e42",
   "metadata": {},
   "outputs": [],
   "source": []
  }
 ],
 "metadata": {
  "kernelspec": {
   "display_name": "Python 3 (ipykernel)",
   "language": "python",
   "name": "python3"
  },
  "language_info": {
   "codemirror_mode": {
    "name": "ipython",
    "version": 3
   },
   "file_extension": ".py",
   "mimetype": "text/x-python",
   "name": "python",
   "nbconvert_exporter": "python",
   "pygments_lexer": "ipython3",
   "version": "3.9.13"
  }
 },
 "nbformat": 4,
 "nbformat_minor": 5
}
